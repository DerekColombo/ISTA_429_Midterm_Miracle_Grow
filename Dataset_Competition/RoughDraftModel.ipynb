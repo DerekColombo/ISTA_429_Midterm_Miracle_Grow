{
 "cells": [
  {
   "cell_type": "code",
   "execution_count": null,
   "metadata": {},
   "outputs": [],
   "source": [
    "import numpy as np\n",
    "import pandas as pd\n",
    "from statistics import mean\n",
    "import matplotlib.pyplot as plt\n",
    "\n",
    "'''\n",
    "Average Direct Normal Irradiance (ADNI)\n",
    "Average Precipitation (AP) 3\n",
    "Average Relative Humidity (ARH) \n",
    "Maximum Direct Normal Irradiance (MDNI) 2\n",
    "Maximum Surface Temperature (MaxSur) \n",
    "Minimum Surface Temperature (MinSur) 1\n",
    "Average Surface Temperature (AvgSur)\n",
    "\n",
    "Maturity Group (MG), Genotype ID, State, Year, and Location for each performance record.\n",
    "'''"
   ]
  },
  {
   "cell_type": "code",
   "execution_count": null,
   "metadata": {},
   "outputs": [],
   "source": [
    "data = np.load('inputs_others_train.npy')"
   ]
  },
  {
   "cell_type": "code",
   "execution_count": null,
   "metadata": {},
   "outputs": [],
   "source": [
    "df = pd.DataFrame(data)\n",
    "#df"
   ]
  },
  {
   "cell_type": "code",
   "execution_count": null,
   "metadata": {},
   "outputs": [],
   "source": [
    "weather_data = np.load('inputs_weather_train.npy')"
   ]
  },
  {
   "cell_type": "code",
   "execution_count": null,
   "metadata": {},
   "outputs": [],
   "source": [
    "columns = ['ADNI','AP','ARH','MDNI','MaxSur','MinSur','AvgSur']"
   ]
  },
  {
   "cell_type": "code",
   "execution_count": null,
   "metadata": {
    "scrolled": true
   },
   "outputs": [],
   "source": [
    "newarr = weather_data.reshape(93028, 7*214)"
   ]
  },
  {
   "cell_type": "code",
   "execution_count": null,
   "metadata": {},
   "outputs": [],
   "source": [
    "df2 = pd.DataFrame(newarr)"
   ]
  },
  {
   "cell_type": "code",
   "execution_count": null,
   "metadata": {
    "scrolled": true
   },
   "outputs": [],
   "source": [
    "#df2 = df2.iloc[: , :7]"
   ]
  },
  {
   "cell_type": "code",
   "execution_count": null,
   "metadata": {},
   "outputs": [],
   "source": [
    "df_list = []\n",
    "n=0\n",
    "i=7\n",
    "for sec in df2.columns:\n",
    "    \n",
    "    df_list.append(df2.iloc[: , n:i])\n",
    "    n+=7\n",
    "    i+=7\n",
    "    \n",
    "#df_list\n",
    "len(df_list)"
   ]
  },
  {
   "cell_type": "code",
   "execution_count": null,
   "metadata": {},
   "outputs": [],
   "source": [
    "col = ['ADNI','AP','ARH','MDNI','MaxSur','MinSur','AvgSur']"
   ]
  },
  {
   "cell_type": "code",
   "execution_count": null,
   "metadata": {},
   "outputs": [],
   "source": [
    "#df2.columns = col"
   ]
  },
  {
   "cell_type": "code",
   "execution_count": null,
   "metadata": {},
   "outputs": [],
   "source": [
    "df.columns = ['MG','Geno ID','State','Year','Location']"
   ]
  },
  {
   "cell_type": "code",
   "execution_count": null,
   "metadata": {},
   "outputs": [],
   "source": [
    "yield_data = np.load('yield_train.npy')"
   ]
  },
  {
   "cell_type": "code",
   "execution_count": null,
   "metadata": {},
   "outputs": [],
   "source": [
    "df3 = pd.DataFrame(yield_data)\n",
    "#df3"
   ]
  },
  {
   "cell_type": "code",
   "execution_count": null,
   "metadata": {},
   "outputs": [],
   "source": [
    "df = df3.join(df)\n",
    "#df"
   ]
  },
  {
   "cell_type": "code",
   "execution_count": null,
   "metadata": {},
   "outputs": [],
   "source": [
    "df.columns = ['CropY','MG','Geno ID','State','Year','Location']"
   ]
  },
  {
   "cell_type": "code",
   "execution_count": null,
   "metadata": {},
   "outputs": [],
   "source": [
    "#df"
   ]
  },
  {
   "cell_type": "code",
   "execution_count": null,
   "metadata": {},
   "outputs": [],
   "source": [
    "#df_merged = df2.join(df)\n",
    "#df_merged"
   ]
  },
  {
   "cell_type": "code",
   "execution_count": null,
   "metadata": {},
   "outputs": [],
   "source": [
    "df_temp = df[['CropY','MG','Geno ID','State','Year','Location']]\n",
    "#df_temp"
   ]
  },
  {
   "cell_type": "code",
   "execution_count": null,
   "metadata": {},
   "outputs": [],
   "source": [
    "\n",
    "i=0\n",
    "for line in df_list:\n",
    "    hell = line.join(df_temp)\n",
    "    df_list[i] = hell\n",
    "    #df_list[i].columns = ['ADNI','AP','ARH','MDNI','MaxSur','MinSur','AvgSur','CropY','MG','Geno ID','State','Year','Location']\n",
    "    i+=1\n",
    "#df_list\n",
    "\n"
   ]
  },
  {
   "cell_type": "code",
   "execution_count": null,
   "metadata": {},
   "outputs": [],
   "source": [
    "\n",
    "complete_df = pd.concat(df_list)\n"
   ]
  },
  {
   "cell_type": "code",
   "execution_count": null,
   "metadata": {},
   "outputs": [],
   "source": [
    "len(complete_df)"
   ]
  },
  {
   "cell_type": "code",
   "execution_count": null,
   "metadata": {
    "scrolled": false
   },
   "outputs": [],
   "source": [
    "complete_df.columns = ['ADNI','AP','ARH','MDNI','MaxSur','MinSur','AvgSur','CropY','MG','Geno ID','State','Year','Location']"
   ]
  },
  {
   "cell_type": "code",
   "execution_count": null,
   "metadata": {},
   "outputs": [],
   "source": [
    "#df_merged.to_csv('rowbycolfull.csv')"
   ]
  },
  {
   "cell_type": "code",
   "execution_count": null,
   "metadata": {},
   "outputs": [],
   "source": [
    "#df_merged"
   ]
  },
  {
   "cell_type": "code",
   "execution_count": null,
   "metadata": {},
   "outputs": [],
   "source": [
    "DF = complete_df.groupby(['Geno ID']).mean()\n",
    "#DF\n",
    "#DF.to_csv('groupedgenoid.csv')"
   ]
  },
  {
   "cell_type": "code",
   "execution_count": null,
   "metadata": {
    "scrolled": true
   },
   "outputs": [],
   "source": [
    "'''\n",
    "*****This is a sample cell of what the function does*****\n",
    "\n",
    "x = DF['MDNI']\n",
    "y = DF['CropY']\n",
    "plt.plot(x, y, '.')\n",
    "\n",
    "m, b = np.polyfit(x, y, 1)\n",
    "\n",
    "\n",
    "plt.plot(x, m*x + b)\n",
    "\n",
    "*****This is a sample cell of what the function does*****\n",
    "'''"
   ]
  },
  {
   "cell_type": "code",
   "execution_count": null,
   "metadata": {},
   "outputs": [],
   "source": [
    "'''\n",
    "*****This is a sample cell of what the function does*****\n",
    "\n",
    "cm = np.corrcoef(x, y)\n",
    "cxy = cm[0,1]\n",
    "r_squared = cxy**2\n",
    "r_squared\n",
    "\n",
    "*****This is a sample cell of what the function does*****\n",
    "'''"
   ]
  },
  {
   "cell_type": "code",
   "execution_count": null,
   "metadata": {},
   "outputs": [],
   "source": [
    "testothers = np.load('inputs_others_test.npy')\n",
    "testweather = np.load('inputs_weather_test.npy')"
   ]
  },
  {
   "cell_type": "code",
   "execution_count": null,
   "metadata": {},
   "outputs": [],
   "source": [
    "df_test = pd.DataFrame(testothers)\n",
    "df_test.columns = ['MG','Geno ID','State','Year','Location']"
   ]
  },
  {
   "cell_type": "code",
   "execution_count": null,
   "metadata": {},
   "outputs": [],
   "source": [
    "newarr = testweather.reshape(10337, 7*214)\n",
    "df_test2 = pd.DataFrame(newarr)"
   ]
  },
  {
   "cell_type": "code",
   "execution_count": null,
   "metadata": {},
   "outputs": [],
   "source": [
    "#df_test2 = df_test2.iloc[: , :7] #don't uncomment\n",
    "df_list_test = []\n",
    "n=0\n",
    "i=7\n",
    "for sec in df2.columns:\n",
    "    \n",
    "    df_list_test.append(df_test2.iloc[: , n:i])\n",
    "    n+=7\n",
    "    i+=7\n",
    "    \n",
    "df_list_test\n",
    "len(df_list_test)"
   ]
  },
  {
   "cell_type": "code",
   "execution_count": null,
   "metadata": {},
   "outputs": [],
   "source": [
    "df_temp2 = df_test[['MG','Geno ID','State','Year','Location']]\n",
    "#df_temp2"
   ]
  },
  {
   "cell_type": "code",
   "execution_count": null,
   "metadata": {},
   "outputs": [],
   "source": [
    "\n",
    "i=0\n",
    "for line in df_list_test:\n",
    "    hell = line.join(df_temp2)\n",
    "    df_list_test[i] = hell\n",
    "    #df_list[i].columns = ['ADNI','AP','ARH','MDNI','MaxSur','MinSur','AvgSur','CropY','MG','Geno ID','State','Year','Location']\n",
    "    i+=1\n",
    "#df_list_test"
   ]
  },
  {
   "cell_type": "code",
   "execution_count": null,
   "metadata": {},
   "outputs": [],
   "source": [
    "complete_test = pd.concat(df_list)"
   ]
  },
  {
   "cell_type": "code",
   "execution_count": null,
   "metadata": {},
   "outputs": [],
   "source": [
    "complete_test.columns = ['ADNI','AP','ARH','MDNI','MaxSur','MinSur','AvgSur','MG','Geno ID','State','Year','Location']"
   ]
  },
  {
   "cell_type": "code",
   "execution_count": null,
   "metadata": {},
   "outputs": [],
   "source": [
    "#df_test = df_test.join(df_test2)"
   ]
  },
  {
   "cell_type": "code",
   "execution_count": null,
   "metadata": {},
   "outputs": [],
   "source": [
    "df_test = complete_test"
   ]
  },
  {
   "cell_type": "code",
   "execution_count": null,
   "metadata": {},
   "outputs": [],
   "source": [
    "'''\n",
    "*****This is a sample cell of what the function below does*****\n",
    "\n",
    "yield_list = []\n",
    "\n",
    "for row in df_test['ADNI']:\n",
    "    y = (m*row)+b\n",
    "    yield_list.append(y)\n",
    "    \n",
    "result = np.array(yield_list)\n",
    "m\n",
    "\n",
    "*****This is a sample cell of what the function does*****\n",
    "'''"
   ]
  },
  {
   "cell_type": "code",
   "execution_count": null,
   "metadata": {},
   "outputs": [],
   "source": [
    "'''\n",
    "def list_func():\n",
    "    yield_list = []\n",
    "\n",
    "    for row in df_test['ADNI']:\n",
    "        y = (m*row)+b\n",
    "        yield_list.append(y)\n",
    "    \n",
    "    result = np.array(yield_list)\n",
    "'''"
   ]
  },
  {
   "cell_type": "code",
   "execution_count": null,
   "metadata": {},
   "outputs": [],
   "source": [
    "\n",
    "def calc_temp(colum):\n",
    "    yield_list_final = []\n",
    "    x = DF[colum]\n",
    "    y = DF['CropY']\n",
    "    plt.plot(x, y, '.')\n",
    "    m, b = np.polyfit(x, y, 1)\n",
    "    plt.plot(x, m*x + b)\n",
    "    cm = np.corrcoef(x, y)\n",
    "    cxy = cm[0,1]\n",
    "    r_squared = cxy**2\n",
    "    print(r_squared)\n",
    "    #calc_list = slope()\n",
    "    #### \n",
    "    for row in df_test[colum]:\n",
    "        y = (m*row)+b\n",
    "        yield_list_final.append(y)\n",
    "    \n",
    "    result = np.array(yield_list_final)\n",
    "    return yield_list_final\n",
    "    ####"
   ]
  },
  {
   "cell_type": "code",
   "execution_count": null,
   "metadata": {
    "scrolled": false
   },
   "outputs": [],
   "source": [
    "ADNI = calc_temp(\"ADNI\")\n",
    "AP = calc_temp(\"AP\")\n",
    "ARH = calc_temp(\"ARH\")\n",
    "MDNI = calc_temp(\"MDNI\")\n",
    "MaxSur = calc_temp(\"MaxSur\")\n",
    "MinSur = calc_temp(\"MinSur\")\n",
    "AvgSur = calc_temp(\"AvgSur\")\n",
    "\n",
    "combined_yield = [ADNI, AP, ARH, MDNI, MaxSur, MinSur, AvgSur]\n",
    "combined_df = pd.DataFrame(combined_yield)"
   ]
  },
  {
   "cell_type": "code",
   "execution_count": null,
   "metadata": {},
   "outputs": [],
   "source": [
    "final_df = combined_df.mean(axis=0)\n",
    "final_df"
   ]
  },
  {
   "cell_type": "code",
   "execution_count": null,
   "metadata": {},
   "outputs": [],
   "source": [
    "numpy_result = final_df.to_numpy()"
   ]
  },
  {
   "cell_type": "code",
   "execution_count": null,
   "metadata": {},
   "outputs": [],
   "source": [
    "len(numpy_result)"
   ]
  },
  {
   "cell_type": "code",
   "execution_count": null,
   "metadata": {},
   "outputs": [],
   "source": [
    "np.save(\"results.npy\", numpy_result)\n",
    "result = np.load('results.npy')"
   ]
  },
  {
   "cell_type": "code",
   "execution_count": null,
   "metadata": {},
   "outputs": [],
   "source": [
    "result"
   ]
  },
  {
   "cell_type": "code",
   "execution_count": null,
   "metadata": {},
   "outputs": [],
   "source": [
    "len(result)"
   ]
  },
  {
   "cell_type": "code",
   "execution_count": null,
   "metadata": {},
   "outputs": [],
   "source": []
  }
 ],
 "metadata": {
  "kernelspec": {
   "display_name": "Python 3",
   "language": "python",
   "name": "python3"
  },
  "language_info": {
   "codemirror_mode": {
    "name": "ipython",
    "version": 3
   },
   "file_extension": ".py",
   "mimetype": "text/x-python",
   "name": "python",
   "nbconvert_exporter": "python",
   "pygments_lexer": "ipython3",
   "version": "3.8.5"
  }
 },
 "nbformat": 4,
 "nbformat_minor": 4
}
